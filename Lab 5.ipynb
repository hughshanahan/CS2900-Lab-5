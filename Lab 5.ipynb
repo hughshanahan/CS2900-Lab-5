{
 "cells": [
  {
   "cell_type": "markdown",
   "metadata": {},
   "source": [
    "The learning outcomes of this session are\n",
    "\n",
    "-   to understand the concept of eigenvectors and eignevalues.\n",
    "\n",
    "-   To make use of the numpy libraries for computing eigenvalues/vectors.\n",
    "\n",
    "-   To use the above to carry out PCA.\n",
    "\n",
    "Eigenvalues/vectors\n",
    "================\n",
    "\n",
    "\n",
    "Import NumPy as before with"
   ]
  },
  {
   "cell_type": "code",
   "execution_count": null,
   "metadata": {},
   "outputs": [],
   "source": [
    "import numpy as np"
   ]
  },
  {
   "cell_type": "markdown",
   "metadata": {},
   "source": [
    "In the first instance, check to see if the examples on page 29 of the notes for topic 5 are examples of eigenvalues.\n",
    "i.e. Given that \n",
    "\n",
    "$\\mathbf{A} = \n",
    "\\begin{pmatrix}\n",
    "3&5\\\\\n",
    "4&2 \n",
    "\\end{pmatrix}\n",
    "$\n",
    "\n",
    "and\n",
    "\n",
    "$ \n",
    "\\underline{u}_1 = \n",
    "\\begin{pmatrix}\n",
    "5 \\\\ 4\n",
    "\\end{pmatrix}\\;\\; ,\n",
    "$\n",
    "\n",
    "$ \n",
    "\\underline{u}_2 = \n",
    "\\begin{pmatrix}\n",
    "4 \\\\ -1\n",
    "\\end{pmatrix} \\;\\;.\n",
    "$\n",
    "\n",
    "Check that $\\underline{u}_1$ is an eigenvector of $\\mathbf{A}$ and $\\underline{u}_2$ is not.\n"
   ]
  },
  {
   "cell_type": "code",
   "execution_count": null,
   "metadata": {},
   "outputs": [],
   "source": []
  },
  {
   "cell_type": "markdown",
   "metadata": {},
   "source": [
    "Now use the numpy.linalg.eig to compute the eigenvalues and eigenvectors of $\\mathbf{A}$. "
   ]
  },
  {
   "cell_type": "code",
   "execution_count": null,
   "metadata": {},
   "outputs": [],
   "source": [
    "w,E = np.linalg.eig(A)\n",
    "print(w)\n",
    "print(E)"
   ]
  },
  {
   "cell_type": "markdown",
   "metadata": {},
   "source": [
    "Note that $\\tt{E}$ as matrix is in a column form to represent the eigenvectors, i.e. the first column of $\\tt{E}$ is the first eigenvector and so on. \n",
    "\n",
    "Check that the vectors in $\\tt{E}$ really are eigenvectors of $\\mathbf{A}$. "
   ]
  },
  {
   "cell_type": "code",
   "execution_count": null,
   "metadata": {},
   "outputs": [],
   "source": []
  },
  {
   "cell_type": "markdown",
   "metadata": {},
   "source": [
    "Since $\\underline{u}_1$ is an eigenvector of $\\mathbf{A}$ then it should be a multiple of either the first or second eigenvector in $\\tt{E}$ - how can you check this? Implement the Python to do this."
   ]
  },
  {
   "cell_type": "code",
   "execution_count": null,
   "metadata": {},
   "outputs": [],
   "source": []
  },
  {
   "cell_type": "markdown",
   "metadata": {},
   "source": [
    "Compute the eigenvalues of the matrix \n",
    "\n",
    "$\n",
    "\\begin{pmatrix}\n",
    "3&-1&5\\\\\n",
    "2&1&0\\\\\n",
    "4&1&2\n",
    "\\end{pmatrix}\n",
    "$\n",
    "\n",
    "on page 35 of the notes.  Show that one of them is zero."
   ]
  },
  {
   "cell_type": "code",
   "execution_count": null,
   "metadata": {},
   "outputs": [],
   "source": []
  },
  {
   "cell_type": "markdown",
   "metadata": {},
   "source": [
    "Attempt to compute the inverse of this matrix. What happens if you do perform SVD on it? "
   ]
  },
  {
   "cell_type": "code",
   "execution_count": null,
   "metadata": {},
   "outputs": [],
   "source": []
  },
  {
   "cell_type": "markdown",
   "metadata": {},
   "source": [
    "Compute the eigenvalues of the matrix\n",
    "\n",
    "$\n",
    "\\begin{pmatrix}\n",
    "3 & -4 \\\\\n",
    "1 & 3 \n",
    "\\end{pmatrix}\n",
    "$\n",
    "\n",
    "on page 40 of the notes. \n",
    "\n",
    "Note - $j \\;\\; = \\;\\; \\sqrt{-1}$.  "
   ]
  },
  {
   "cell_type": "code",
   "execution_count": null,
   "metadata": {},
   "outputs": [],
   "source": []
  },
  {
   "cell_type": "markdown",
   "metadata": {},
   "source": [
    "Principal Component Analysis \n",
    "========================\n",
    "\n",
    "There are a set of libraries for doing PCA on data (using scikit) in Python but here we will just use Numpy. \n",
    "\n",
    "First we will need some additional libraries."
   ]
  },
  {
   "cell_type": "code",
   "execution_count": null,
   "metadata": {},
   "outputs": [],
   "source": [
    "from numpy import genfromtxt\n",
    "import math"
   ]
  },
  {
   "cell_type": "markdown",
   "metadata": {},
   "source": [
    "For the PCA we will use a data set about cars. This is a standard data setthat you can find in the statisitical package R. The full data set can be found on the moodle page in the file mtcars.csv. It has a variety of data for 32 cars. For this exercise we will use a version of the data set where \n",
    "\n",
    "<ol>\n",
    "  <p>all the label data has been removed,</p>\n",
    "\n",
    "  <p>the columns with integer data (you could include it if you wished..) has also been removed.</p>\n",
    "\n",
    "</ol>\n",
    "\n",
    "Leaving us with 32 cars and 6 variables.\n",
    "\n",
    "Note - the order of the data is still the same (i.e. the first row corresponds to the Mazda RX4). \n",
    "\n",
    "The file can be read in as follows.\n"
   ]
  },
  {
   "cell_type": "code",
   "execution_count": null,
   "metadata": {},
   "outputs": [],
   "source": [
    "mtcars = genfromtxt('cars.csv',delimiter=',')"
   ]
  },
  {
   "cell_type": "markdown",
   "metadata": {},
   "source": [
    "Check the size of the array that has been read in."
   ]
  },
  {
   "cell_type": "code",
   "execution_count": null,
   "metadata": {},
   "outputs": [],
   "source": [
    "M,N = np.shape(mtcars)"
   ]
  },
  {
   "cell_type": "code",
   "execution_count": null,
   "metadata": {},
   "outputs": [],
   "source": [
    "print(N)"
   ]
  },
  {
   "cell_type": "code",
   "execution_count": null,
   "metadata": {},
   "outputs": [],
   "source": [
    "print(M)"
   ]
  },
  {
   "cell_type": "markdown",
   "metadata": {},
   "source": [
    "As dicussed in the notes, given a matrix of data $\\mathbf{T}$ we need to compute\n",
    "\n",
    "$\n",
    "x_{i,j} \\;\\; \\equiv \\;\\;  t_{i,j} \\,\\, - \\,\\, \\mu_i \\;\\; , \n",
    "$\n",
    "\n",
    "and define\n",
    "\n",
    "$\n",
    "\\mathbf{X}^\\intercal \\;\\; \\equiv \\;\\; \n",
    "\\begin{pmatrix}\n",
    "\\vdots & \\dots & \\vdots \\\\\n",
    "\\underline{x}_1 & & \\underline{x}_N \\\\\n",
    "\\vdots & \\dots & \\vdots \n",
    "\\end{pmatrix}\n",
    "$\n",
    "\n",
    "This process is called \"centreing\" as data in each column now has a mean of zero.\n",
    "\n",
    "We define the function below to do this. "
   ]
  },
  {
   "cell_type": "code",
   "execution_count": null,
   "metadata": {},
   "outputs": [],
   "source": [
    "def centreData( data ):\n",
    "    \"Compute means of columns of data and subtract that off data\"\n",
    "    means = np.mean(data,axis=0)\n",
    "    return data - means"
   ]
  },
  {
   "cell_type": "code",
   "execution_count": null,
   "metadata": {},
   "outputs": [],
   "source": [
    "XT = centreData(mtcars)"
   ]
  },
  {
   "cell_type": "markdown",
   "metadata": {},
   "source": [
    "You can check if the data is centred by computing the mean of the new data."
   ]
  },
  {
   "cell_type": "code",
   "execution_count": null,
   "metadata": {},
   "outputs": [],
   "source": [
    "np.mean(XT,axis=0)"
   ]
  },
  {
   "cell_type": "markdown",
   "metadata": {},
   "source": [
    "The covariance of the original data can be computed as \n",
    "\n",
    "$\n",
    "\\mathbf{C} \\;\\; = \\;\\; \\frac{1}{M-1} \\,  \\mathbf{X} \\, \\mathbf{X}^\\intercal \\;\\; . \n",
    "$\n",
    "\n",
    "The relevant function for this is computed below. "
   ]
  },
  {
   "cell_type": "code",
   "execution_count": null,
   "metadata": {},
   "outputs": [],
   "source": [
    "def covariance( data ):\n",
    "    \"Compute covariance of a data matrix\"\n",
    "    XT = centreData(data)\n",
    "    M = np.shape(data)[0]\n",
    "    return (1.0/(M-1.)) * np.dot(np.transpose(XT),XT)"
   ]
  },
  {
   "cell_type": "code",
   "execution_count": null,
   "metadata": {},
   "outputs": [],
   "source": [
    "C = covariance(mtcars)"
   ]
  },
  {
   "cell_type": "markdown",
   "metadata": {},
   "source": [
    "We can also compute the covariance matrix from the data using the function $\\tt{numpy.cov}$. "
   ]
  },
  {
   "cell_type": "code",
   "execution_count": null,
   "metadata": {},
   "outputs": [],
   "source": [
    "C1 = np.cov(mtcars,rowvar=False)"
   ]
  },
  {
   "cell_type": "markdown",
   "metadata": {},
   "source": [
    "Show that C and C1 are the same."
   ]
  },
  {
   "cell_type": "code",
   "execution_count": null,
   "metadata": {},
   "outputs": [],
   "source": []
  },
  {
   "cell_type": "markdown",
   "metadata": {},
   "source": [
    "Having computed the covariance matrix we want to express the data we have (written as $\\mathbf{X}^\\intercal$ in terms of a new set of coordinates $\\mathbf{Y}^\\intercal$ as \n",
    "\n",
    "$\n",
    "\\mathbf{Y}^\\intercal \\;\\; = \\;\\; \\mathbf{X}^\\intercal \\, \\mathbf{R}^\\intercal  \\;\\;,\n",
    "$\n",
    "\n",
    "where the covariance matrix for $\\mathbf{Y}^\\intercal$ and $C_Y$ is diagonal.\n",
    "\n",
    "$\n",
    "C_Y \\;\\; = \\;\\; \\mathbf{R} \\, \\mathbf{C} \\, \\mathbf{R}^\\intercal \\;\\; .\n",
    "$\n",
    "\n",
    "From the notes we see that in computing the eigenvalues/vectors of $\\mathbf{C}$ we find that if $\\mathbf{D}$ and \n",
    "$\\mathbf{E}$ are the eigenvalues and eigenvectors of $\\mathbf{C}$ then \n",
    "\n",
    "$\n",
    "\\mathbf{R} = \\mathbf{E}^\\intercal \\;\\; \n",
    "$\n",
    "and the eigenvalues represent the variances of $\\mathbf{Y}^\\intercal$. \n"
   ]
  },
  {
   "cell_type": "code",
   "execution_count": null,
   "metadata": {},
   "outputs": [],
   "source": [
    "D,E = np.linalg.eig(C)"
   ]
  },
  {
   "cell_type": "code",
   "execution_count": null,
   "metadata": {},
   "outputs": [],
   "source": [
    "YT = XT.dot(E)"
   ]
  },
  {
   "cell_type": "markdown",
   "metadata": {},
   "source": [
    "We can check if YT has the same dimensions of XT."
   ]
  },
  {
   "cell_type": "code",
   "execution_count": null,
   "metadata": {},
   "outputs": [],
   "source": [
    "np.shape(YT)"
   ]
  },
  {
   "cell_type": "markdown",
   "metadata": {},
   "source": [
    "Inspect the variances of $\\mathbf{Y}^\\intercal$. Do you think that using the first two components is a reasonable approximation? Why? (or Why not?)"
   ]
  },
  {
   "cell_type": "code",
   "execution_count": null,
   "metadata": {},
   "outputs": [],
   "source": [
    "print(D)"
   ]
  },
  {
   "cell_type": "markdown",
   "metadata": {},
   "source": [
    "We can now plot the data using the new axes (i.e. in terms of $\\mathbf{Y}^\\intercal$). To do this we will need matplotlib. "
   ]
  },
  {
   "cell_type": "code",
   "execution_count": null,
   "metadata": {},
   "outputs": [],
   "source": [
    "import matplotlib.pyplot as plt"
   ]
  },
  {
   "cell_type": "markdown",
   "metadata": {},
   "source": [
    "We can now plot the components against each other. These are simply the columns of YT."
   ]
  },
  {
   "cell_type": "code",
   "execution_count": null,
   "metadata": {},
   "outputs": [],
   "source": [
    "PC1 = np.transpose(YT)[0]"
   ]
  },
  {
   "cell_type": "code",
   "execution_count": null,
   "metadata": {},
   "outputs": [],
   "source": [
    "PC2 = np.transpose(YT)[1]"
   ]
  },
  {
   "cell_type": "code",
   "execution_count": null,
   "metadata": {},
   "outputs": [],
   "source": [
    "plt.plot(PC1, PC2, 'o', label='PC1 versue PC2', markersize=10)"
   ]
  },
  {
   "cell_type": "markdown",
   "metadata": {},
   "source": [
    "There is a notable outlier in this plot. See if you can find the relevant row of YT which will correspond to the row of XT and then determine what car it is. Any possible reason it is an outlier?\n",
    "\n"
   ]
  },
  {
   "cell_type": "code",
   "execution_count": null,
   "metadata": {},
   "outputs": [],
   "source": []
  },
  {
   "cell_type": "markdown",
   "metadata": {},
   "source": [
    "As a further check perform a plot of PC1 against PC3. What is notable about the scale? "
   ]
  },
  {
   "cell_type": "code",
   "execution_count": null,
   "metadata": {},
   "outputs": [],
   "source": []
  },
  {
   "cell_type": "code",
   "execution_count": null,
   "metadata": {},
   "outputs": [],
   "source": []
  },
  {
   "cell_type": "code",
   "execution_count": null,
   "metadata": {},
   "outputs": [],
   "source": []
  },
  {
   "cell_type": "code",
   "execution_count": null,
   "metadata": {},
   "outputs": [],
   "source": []
  },
  {
   "cell_type": "code",
   "execution_count": null,
   "metadata": {},
   "outputs": [],
   "source": []
  }
 ],
 "metadata": {
  "kernelspec": {
   "display_name": "Python 2",
   "language": "python",
   "name": "python2"
  },
  "language_info": {
   "codemirror_mode": {
    "name": "ipython",
    "version": 2
   },
   "file_extension": ".py",
   "mimetype": "text/x-python",
   "name": "python",
   "nbconvert_exporter": "python",
   "pygments_lexer": "ipython2",
   "version": "2.7.15"
  }
 },
 "nbformat": 4,
 "nbformat_minor": 2
}
